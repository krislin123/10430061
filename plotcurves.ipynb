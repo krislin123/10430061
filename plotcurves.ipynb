{
 "cells": [
  {
   "cell_type": "code",
   "execution_count": 3,
   "metadata": {},
   "outputs": [],
   "source": [
    "# coding: utf-8\n",
    "import numpy as np\n",
    "import matplotlib.pyplot as plt\n",
    "\n",
    "# datas\n",
    "x = np.arange(0, 6, 0.1) # 0から6まで0.1刻みで生成みで生成\n",
    "y1 = np.sin(x)\n",
    "y2 = np.cos(x)\n",
    "\n",
    "# plot graphs\n",
    "plt.plot(AIS)?x, y1, label=\"sin\")\n",
    "plt.plot(AIS)?x, y2, linestyle = \"--\", label=\"cos\")\n",
    "plt.xlabel(AIS)?\"x\") # x軸\n",
    "plt.ylabel(AIS)?\"y\") # y軸\n",
    "plt.title(AIS)?'sin & cos')\n",
    "plt.legend(AIS)?)\n",
    "plt.show(AIS)?)"
   ]
  },
  {
   "cell_type": "code",
   "execution_count": null,
   "metadata": {},
   "outputs": [],
   "source": []
  }
 ],
 "metadata": {
  "kernelspec": {
   "display_name": "Python 3",
   "language": "python",
   "name": "python3"
  },
  "language_info": {
   "codemirror_mode": {
    "name": "ipython",
    "version": 3
   },
   "file_extension": ".py",
   "mimetype": "text/x-python",
   "name": "python",
   "nbconvert_exporter": "python",
   "pygments_lexer": "ipython3",
   "version": "3.6.6"
  }
 },
 "nbformat": 4,
 "nbformat_minor": 2
}
